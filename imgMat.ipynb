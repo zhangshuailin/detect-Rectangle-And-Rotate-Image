{
 "cells": [
  {
   "cell_type": "code",
   "execution_count": 15,
   "metadata": {},
   "outputs": [],
   "source": [
    "import cv2\n",
    "import numpy as np\n",
    "\n",
    "class DEFMAT():\n",
    "    def __init__(self):\n",
    "        self.mat = None\n",
    "        self.videoCap = None\n",
    "    def buildMat(self,width,height,matType=cv2.CV_8UC1):\n",
    "        matTmp = cv2.CreateMat(width,height,matType)\n",
    "        return cv2.zeros(matTemp,matTmp.size(),matTmp.type())  \n",
    "    def loadImage(self,imgPath):\n",
    "        self.mat = cv2.imread(imgPath)\n",
    "        return self.mat\n",
    "    def copyMat(self,mat):\n",
    "        return mat.copy()\n",
    "    def selectRoi(self,Mat,xStart,yStart,width,height):\n",
    "        if xStart<0 or yStart<0:\n",
    "            print('x,y must >= 0')\n",
    "            return\n",
    "        xScale = xStart+width\n",
    "        yScale = yStart+height\n",
    "        if xScale<0 or yScale<0 or xScale>Mat.rows or yScale>Mat.cols:\n",
    "            print('out of the scale')\n",
    "            return\n",
    "        return Mat[xStart:xScale,yStart:yScale]\n",
    "    def videoCapture(self,videoStrPath):\n",
    "        if videoStrPath == None:\n",
    "            self.videoCap = cv2.VideoCapture(0)\n",
    "            return self.videoCap\n",
    "        self.videoCap = cv2.VideoCapture(videoStrPath)\n",
    "        return self.videoCap\n",
    "    def videoRelease(self):\n",
    "        self.videoCap.release()\n",
    "        return\n",
    "    def showImage(self,width,height,windowName=''):\n",
    "        if (not width) or (not height):\n",
    "            print('width or height is None')\n",
    "            return\n",
    "        cv2.namedWindow(windowName,cv2.WINDOW_NORMAL)\n",
    "        matTemp = cv2.resize(self.mat,(100,100))\n",
    "        cv2.imshow(windowName,matTemp)\n",
    "        cv2.waitKey(0)\n",
    "        cv2.destroyAllWindows()\n",
    "        \n",
    "if __name__ == '__main__':\n",
    "    ocv = DEFMAT()\n",
    "    ocv.loadImage('lena.jpg')\n",
    "    ocv.showImage(800,800)"
   ]
  },
  {
   "cell_type": "code",
   "execution_count": null,
   "metadata": {},
   "outputs": [],
   "source": []
  },
  {
   "cell_type": "code",
   "execution_count": null,
   "metadata": {},
   "outputs": [],
   "source": []
  },
  {
   "cell_type": "code",
   "execution_count": null,
   "metadata": {},
   "outputs": [],
   "source": []
  }
 ],
 "metadata": {
  "kernelspec": {
   "display_name": "Python 3",
   "language": "python",
   "name": "python3"
  },
  "language_info": {
   "codemirror_mode": {
    "name": "ipython",
    "version": 3
   },
   "file_extension": ".py",
   "mimetype": "text/x-python",
   "name": "python",
   "nbconvert_exporter": "python",
   "pygments_lexer": "ipython3",
   "version": "3.6.3"
  }
 },
 "nbformat": 4,
 "nbformat_minor": 2
}
